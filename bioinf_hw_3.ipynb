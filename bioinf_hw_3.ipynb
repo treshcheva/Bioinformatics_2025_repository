{
 "cells": [
  {
   "cell_type": "code",
   "execution_count": 41,
   "metadata": {},
   "outputs": [],
   "source": [
    "import numpy as np"
   ]
  },
  {
   "cell_type": "code",
   "execution_count": 42,
   "metadata": {},
   "outputs": [],
   "source": [
    "import pandas as pd"
   ]
  },
  {
   "cell_type": "markdown",
   "metadata": {},
   "source": [
    "### Алгоритм Нидлмана-Вунша\n",
    "\n",
    "Глобальное выравнивание"
   ]
  },
  {
   "cell_type": "code",
   "execution_count": 56,
   "metadata": {},
   "outputs": [],
   "source": [
    "def needleman_wunsch(seq_1, seq_2, match_score, mismatch_score, gap_penalty):\n",
    "    m = len(seq_1)\n",
    "    n = len(seq_2)\n",
    "    F = np.zeros((m+1, n+1))\n",
    "\n",
    "    # Заполним первую строку и первый столбец штрафами за гэп\n",
    "    for i in range(m + 1):\n",
    "        F[i][0] = i * gap_penalty\n",
    "    for j in range(n + 1):\n",
    "        F[0][j] = j * gap_penalty\n",
    "\n",
    "    # Заполним матрицу. Для позиции ij выбираем максимальное значение из (i-1,j), (i, j-1) и (i-1, j-1) позиций\n",
    "    for i in range(1, m + 1):\n",
    "        for j in range(1, n + 1):\n",
    "            match = F[i - 1][j - 1] + (match_score if seq_1[i - 1] == seq_2[j - 1] else mismatch_score)\n",
    "            delete = F[i - 1][j] + gap_penalty\n",
    "            insert = F[i][j - 1] + gap_penalty\n",
    "            F[i][j] = max(match, delete, insert)\n",
    "\n",
    "    # Пройдемся по таблице в обратном порядке и восстановим оптимальный маршрут, в итоге получим выравнивание.\n",
    "    align_1, align_2 = \"\", \"\"\n",
    "    i, j = m, n\n",
    "    while i > 0 or j > 0:\n",
    "        current_score = F[i][j]\n",
    "        if i > 0 and j > 0 and current_score == F[i - 1][j - 1] + (match_score if seq_1[i - 1] == seq_2[j - 1] else mismatch_score):\n",
    "            align_1 += seq_1[i - 1]\n",
    "            align_2 += seq_2[j - 1]\n",
    "            i -= 1\n",
    "            j -= 1\n",
    "        elif i > 0 and current_score == F[i - 1][j] + gap_penalty:\n",
    "            align_1 += seq_1[i - 1]\n",
    "            align_2 += \"-\"\n",
    "            i -= 1\n",
    "        else:\n",
    "            align_1 += \"-\"\n",
    "            align_2 += seq_2[j - 1]\n",
    "            j -= 1\n",
    "\n",
    "    return align_1[::-1], align_2[::-1], F[m][n]"
   ]
  },
  {
   "cell_type": "markdown",
   "metadata": {},
   "source": [
    "#### Пример из таблички:"
   ]
  },
  {
   "cell_type": "code",
   "execution_count": 57,
   "metadata": {},
   "outputs": [
    {
     "name": "stdout",
     "output_type": "stream",
     "text": [
      "Выравнивание:\n",
      "CAGAGTT\n",
      "CA-ATTT\n",
      "Score: 3.0\n"
     ]
    }
   ],
   "source": [
    "match_score = 1\n",
    "mismatch_score = -1\n",
    "gap_penalty = -1\n",
    "seq_1 = 'CAGAGTT'\n",
    "seq_2 = 'CAATTT'\n",
    "\n",
    "alignment = needleman_wunsch(seq_1, seq_2, match_score, mismatch_score, gap_penalty)\n",
    "print(\"Выравнивание:\")\n",
    "print(alignment[0])\n",
    "print(alignment[1])\n",
    "print(\"Score:\", alignment[2])"
   ]
  },
  {
   "cell_type": "markdown",
   "metadata": {},
   "source": [
    "Другие примеры:\n",
    "#### Пример 2"
   ]
  },
  {
   "cell_type": "code",
   "execution_count": 45,
   "metadata": {},
   "outputs": [
    {
     "name": "stdout",
     "output_type": "stream",
     "text": [
      "Выравнивание:\n",
      "TACGGGCC---CGCT-AC\n",
      "TA--GCCCTATCGGTCA-\n",
      "Score: 0.0\n"
     ]
    }
   ],
   "source": [
    "alignment = needleman_wunsch('TACGGGCCCGCTAC', 'TAGCCCTATCGGTCA', 1, -1, -1)\n",
    "print(\"Выравнивание:\")\n",
    "print(alignment[0])\n",
    "print(alignment[1])\n",
    "print(\"Score:\",alignment[2])"
   ]
  },
  {
   "cell_type": "markdown",
   "metadata": {},
   "source": [
    "#### Пример 3\n",
    "В данной последовательности есть общая часть. Это алгоритм глобального выравнивания, поэтому он попытался их выравнять, но тут много несовпадений, несмотря на попытки добавить гэпы. И скор низкий. Ниже посмотрим, как справится Вотерман-Смит."
   ]
  },
  {
   "cell_type": "code",
   "execution_count": 46,
   "metadata": {},
   "outputs": [
    {
     "name": "stdout",
     "output_type": "stream",
     "text": [
      "Выравнивание:\n",
      "TACCGCCAT-TTG-T--C-CCGTCGC\n",
      "---CGTCGTGCTGCTAACACCAT--T\n",
      "Score: -4.0\n"
     ]
    }
   ],
   "source": [
    "alignment = needleman_wunsch('TACCGCCATTTGTCCCGTCGC', 'CGTCGTGCTGCTAACACCATT', 1, -1, -1)\n",
    "print(\"Выравнивание:\")\n",
    "print(alignment[0])\n",
    "print(alignment[1])\n",
    "print(\"Score:\",alignment[2])"
   ]
  },
  {
   "cell_type": "markdown",
   "metadata": {},
   "source": [
    "### Алгоритм Смита-Ватермана\n",
    "\n",
    "Локальное выравнивание"
   ]
  },
  {
   "cell_type": "markdown",
   "metadata": {},
   "source": [
    "Это код с аффинным штрафом за разрыв, то есть здесь открытие гэпа можно сделать более дорогим, чем его продолжение."
   ]
  },
  {
   "cell_type": "code",
   "execution_count": 47,
   "metadata": {},
   "outputs": [],
   "source": [
    "def smith_waterman_aff(seq_1, seq_2, match_score, mismatch_score, gap_open_penalty, gap_extend_penalty):\n",
    "    m = len(seq_1)\n",
    "    n = len(seq_2)\n",
    "\n",
    "    # Создаем 3 матрицы\n",
    "    H = np.zeros((m + 1, n + 1))  # Основная матрица\n",
    "    E = np.zeros((m + 1, n + 1))  # Матрица для гэпов в seq_1\n",
    "    F = np.zeros((m + 1, n + 1))  # Матрица для гэпов в seq_2\n",
    "\n",
    "    max_score = 0\n",
    "    max_pos = (0, 0)\n",
    "\n",
    "    # Заполняем матрицы. \n",
    "    for i in range(1, m + 1):\n",
    "        for j in range(1, n + 1):\n",
    "            match = H[i - 1][j - 1] + (match_score if seq_1[i - 1] == seq_2[j - 1] else mismatch_score)\n",
    "            F[i][j] = max(F[i - 1][j] + gap_extend_penalty, H[i - 1][j] + gap_open_penalty)  \n",
    "            E[i][j] = max(E[i][j - 1] + gap_extend_penalty, H[i][j - 1] + gap_open_penalty)  \n",
    "            H[i][j] = max(0, match, E[i][j], F[i][j]) \n",
    "\n",
    "            if H[i][j] > max_score:\n",
    "                max_score = H[i][j]\n",
    "                max_pos = (i, j)\n",
    "\n",
    "    # Восстановление выравнивания\n",
    "    align_1, align_2 = \"\", \"\"\n",
    "    i, j = max_pos\n",
    "\n",
    "    # Определяем, как пришли в текущую ячейку. Здесь важно учесть, что если мы пришли в Н из матрицы Е или F, то там может сидеть продолжение гэпа. До того\n",
    "    #как внутри elif'ов я добавила while, он работал некорректно и делал дополнительный гэп. \n",
    "    while H[i][j] > 0:\n",
    "        if H[i][j] == H[i - 1][j - 1] + (match_score if seq_1[i - 1] == seq_2[j - 1] else mismatch_score):\n",
    "            # Пришли по диагонали (совпадение или несовпадение)\n",
    "            align_1 += seq_1[i - 1]\n",
    "            align_2 += seq_2[j - 1]\n",
    "            i -= 1\n",
    "            j -= 1\n",
    "        elif H[i][j] == E[i][j]:\n",
    "            # Пришли из E (гэп в seq_1)\n",
    "            align_1 += \"-\"\n",
    "            align_2 += seq_2[j - 1]\n",
    "            j -= 1\n",
    "            # Продолжаем идти по E, если это продолжение гэпа\n",
    "            while j > 0 and H[i][j] == E[i][j]:\n",
    "                align_1 += \"-\"\n",
    "                align_2 += seq_2[j - 1]\n",
    "                j -= 1\n",
    "        elif H[i][j] == F[i][j]:\n",
    "            # Пришли из F (гэп в seq_2)\n",
    "            align_1 += seq_1[i - 1]\n",
    "            align_2 += \"-\"\n",
    "            i -= 1\n",
    "            # Продолжаем идти по F, если это продолжение гэпа\n",
    "            while i > 0 and H[i][j] == F[i][j]:\n",
    "                align_1 += seq_1[i - 1]\n",
    "                align_2 += \"-\"\n",
    "                i -= 1\n",
    "\n",
    "    return align_1[::-1], align_2[::-1], H[m][n]"
   ]
  },
  {
   "cell_type": "markdown",
   "metadata": {},
   "source": [
    "#### Пример из таблички:"
   ]
  },
  {
   "cell_type": "code",
   "execution_count": 61,
   "metadata": {},
   "outputs": [
    {
     "name": "stdout",
     "output_type": "stream",
     "text": [
      "Выравнивание:\n",
      "CAGAGTT\n",
      "CA-A-TT\n",
      "Score: 3.0\n"
     ]
    }
   ],
   "source": [
    "alignment = smith_waterman_aff('CAGAGTT', 'CAATTT', 1, -1, -1, -1)\n",
    "print(\"Выравнивание:\")\n",
    "print(alignment[0])\n",
    "print(alignment[1])\n",
    "print(\"Score:\", alignment[2])"
   ]
  },
  {
   "cell_type": "markdown",
   "metadata": {},
   "source": [
    "Другие примеры:\n",
    "#### Пример 2"
   ]
  },
  {
   "cell_type": "code",
   "execution_count": 49,
   "metadata": {},
   "outputs": [
    {
     "name": "stdout",
     "output_type": "stream",
     "text": [
      "Выравнивание:\n",
      "TACGGGCCCGCTA\n",
      "TA---GCC--CTA\n",
      "Score: 18.0\n"
     ]
    }
   ],
   "source": [
    "alignment = smith_waterman_aff('TACGGGCCCGCTAC', 'TAGCCCTATCGGTCA', 5, -4, -5, -1)\n",
    "print(\"Выравнивание:\")\n",
    "print(alignment[0])\n",
    "print(alignment[1])\n",
    "print(\"Score:\",alignment[2])"
   ]
  },
  {
   "cell_type": "markdown",
   "metadata": {},
   "source": [
    "#### Пример 3\n",
    "С таким примером локальное выравнивание справилось лучше, чем глобальное, и нашло общую часть последовательности (с двумя мисмэтчами):"
   ]
  },
  {
   "cell_type": "code",
   "execution_count": 50,
   "metadata": {},
   "outputs": [
    {
     "name": "stdout",
     "output_type": "stream",
     "text": [
      "Выравнивание:\n",
      "TACCGCCATT\n",
      "TAACACCATT\n",
      "Score: 17.0\n"
     ]
    }
   ],
   "source": [
    "alignment = smith_waterman_aff('TACCGCCATTTGTCCCGTCGC', 'CGTCGTGCTGCTAACACCATT', 5, -4, -5, -1)\n",
    "print(\"Выравнивание:\")\n",
    "print(alignment[0])\n",
    "print(alignment[1])\n",
    "print(\"Score:\",alignment[2])"
   ]
  },
  {
   "cell_type": "markdown",
   "metadata": {},
   "source": [
    "### Реализованные Python-пакеты"
   ]
  },
  {
   "cell_type": "code",
   "execution_count": 51,
   "metadata": {},
   "outputs": [],
   "source": [
    "from Bio import pairwise2\n",
    "from Bio.pairwise2 import format_alignment"
   ]
  },
  {
   "cell_type": "markdown",
   "metadata": {},
   "source": [
    "Здесь читала про возможности модуля: https://biopython.org/docs/1.76/api/Bio.pairwise2.html"
   ]
  },
  {
   "cell_type": "markdown",
   "metadata": {},
   "source": [
    "#### Пример из таблички"
   ]
  },
  {
   "cell_type": "code",
   "execution_count": 52,
   "metadata": {},
   "outputs": [
    {
     "name": "stdout",
     "output_type": "stream",
     "text": [
      "CAGAGTT\n",
      "|| |.||\n",
      "CA-ATTT\n",
      "  Score=3\n",
      "\n"
     ]
    }
   ],
   "source": [
    "seq_1 = 'CAGAGTT'\n",
    "seq_2 = 'CAATTT'\n",
    "\n",
    "alignments = pairwise2.align.globalms(seq_1, seq_2, 1, -1, -1, -1)\n",
    "\n",
    "for alignment in alignments:\n",
    "    print(format_alignment(*alignment))"
   ]
  },
  {
   "cell_type": "markdown",
   "metadata": {},
   "source": [
    "Совпадает с тем, что выдал мой код алгоритма Нидлмана-Вунша. Если не устанавливать собственных парамтеров, то можно использовать функцию globalxx, у нее match = 1 и не присваивает никакого наказания для mismatch и gap. Она выдает больше вариантов выравнивания."
   ]
  },
  {
   "cell_type": "markdown",
   "metadata": {},
   "source": [
    "#### Пример 2"
   ]
  },
  {
   "cell_type": "code",
   "execution_count": 53,
   "metadata": {},
   "outputs": [
    {
     "name": "stdout",
     "output_type": "stream",
     "text": [
      "TACGGGCC---CGCTAC-\n",
      "||  |.||   ||.| | \n",
      "TA--GCCCTATCGGT-CA\n",
      "  Score=0\n",
      "\n",
      "TACGGGCC---CGCTAC-\n",
      "|| | .||   ||.| | \n",
      "TA-G-CCCTATCGGT-CA\n",
      "  Score=0\n",
      "\n",
      "TACGGGCC---CGCTAC-\n",
      "|| |. ||   ||.| | \n",
      "TA-GC-CCTATCGGT-CA\n",
      "  Score=0\n",
      "\n",
      "TACGGGCC---CGCT-AC\n",
      "||  |.||   ||.| | \n",
      "TA--GCCCTATCGGTCA-\n",
      "  Score=0\n",
      "\n",
      "TACGGGCC---CGCT-AC\n",
      "|| | .||   ||.| | \n",
      "TA-G-CCCTATCGGTCA-\n",
      "  Score=0\n",
      "\n",
      "TACGGGCC---CGCT-AC\n",
      "|| |. ||   ||.| | \n",
      "TA-GC-CCTATCGGTCA-\n",
      "  Score=0\n",
      "\n"
     ]
    }
   ],
   "source": [
    "seq_1 = 'TACGGGCCCGCTAC' \n",
    "seq_2 = 'TAGCCCTATCGGTCA'\n",
    "\n",
    "\n",
    "alignments = pairwise2.align.globalms(seq_1, seq_2, 1, -1, -1, -1)\n",
    "\n",
    "for alignment in alignments:\n",
    "    print(format_alignment(*alignment))\n"
   ]
  },
  {
   "cell_type": "markdown",
   "metadata": {},
   "source": [
    "Первое выравнивание совпадает с полученным с помощью алгоритма Нидлмана Вунша."
   ]
  },
  {
   "cell_type": "markdown",
   "metadata": {},
   "source": [
    "#### Пример 3"
   ]
  },
  {
   "cell_type": "code",
   "execution_count": 54,
   "metadata": {},
   "outputs": [
    {
     "name": "stdout",
     "output_type": "stream",
     "text": [
      "TACCGCCATT-TG-T--C-CCGTCGC\n",
      "   ||.|.|. || |  | ||.|  .\n",
      "---CGTCGTGCTGCTAACACCAT--T\n",
      "  Score=-4\n",
      "\n",
      "TACCGCCATT-TG-T--C-CCGTCGC\n",
      "  | |.|.|. || |  | ||.|  .\n",
      "--C-GTCGTGCTGCTAACACCAT--T\n",
      "  Score=-4\n",
      "\n",
      "TACCGCCAT-TTG-T--C-CCGTCGC\n",
      "   ||.|.| .|| |  | ||.|  .\n",
      "---CGTCGTGCTGCTAACACCAT--T\n",
      "  Score=-4\n",
      "\n",
      "TACCGCCAT-TTG-T--C-CCGTCGC\n",
      "  | |.|.| .|| |  | ||.|  .\n",
      "--C-GTCGTGCTGCTAACACCAT--T\n",
      "  Score=-4\n",
      "\n",
      "TACCGCCATT-TG-T--C-CCGTCGC\n",
      "   ||.|.|. || |  | ||.| . \n",
      "---CGTCGTGCTGCTAACACCAT-T-\n",
      "  Score=-4\n",
      "\n",
      "TACCGCCATT-TG-T--C-CCGTCGC\n",
      "  | |.|.|. || |  | ||.| . \n",
      "--C-GTCGTGCTGCTAACACCAT-T-\n",
      "  Score=-4\n",
      "\n",
      "TACCGCCAT-TTG-T--C-CCGTCGC\n",
      "   ||.|.| .|| |  | ||.| . \n",
      "---CGTCGTGCTGCTAACACCAT-T-\n",
      "  Score=-4\n",
      "\n",
      "TACCGCCAT-TTG-T--C-CCGTCGC\n",
      "  | |.|.| .|| |  | ||.| . \n",
      "--C-GTCGTGCTGCTAACACCAT-T-\n",
      "  Score=-4\n",
      "\n",
      "TACCGCCATT-TG-T--C-CCGTCGC\n",
      "   ||.|.|. || |  | ||.|.  \n",
      "---CGTCGTGCTGCTAACACCATT--\n",
      "  Score=-4\n",
      "\n",
      "TACCGCCATT-TG-T--C-CCGTCGC\n",
      "  | |.|.|. || |  | ||.|.  \n",
      "--C-GTCGTGCTGCTAACACCATT--\n",
      "  Score=-4\n",
      "\n",
      "TACCGCCAT-TTG-T--C-CCGTCGC\n",
      "   ||.|.| .|| |  | ||.|.  \n",
      "---CGTCGTGCTGCTAACACCATT--\n",
      "  Score=-4\n",
      "\n",
      "TACCGCCAT-TTG-T--C-CCGTCGC\n",
      "  | |.|.| .|| |  | ||.|.  \n",
      "--C-GTCGTGCTGCTAACACCATT--\n",
      "  Score=-4\n",
      "\n"
     ]
    }
   ],
   "source": [
    "seq_1 = 'TACCGCCATTTGTCCCGTCGC'\n",
    "seq_2 = 'CGTCGTGCTGCTAACACCATT'\n",
    "\n",
    "\n",
    "alignments = pairwise2.align.globalms(seq_1, seq_2, 1, -1, -1, -1)\n",
    "\n",
    "for alignment in alignments:\n",
    "    print(format_alignment(*alignment))\n"
   ]
  },
  {
   "cell_type": "markdown",
   "metadata": {},
   "source": [
    "Третье выравнивание совпадает с моим."
   ]
  }
 ],
 "metadata": {
  "kernelspec": {
   "display_name": "Python 3",
   "language": "python",
   "name": "python3"
  },
  "language_info": {
   "codemirror_mode": {
    "name": "ipython",
    "version": 3
   },
   "file_extension": ".py",
   "mimetype": "text/x-python",
   "name": "python",
   "nbconvert_exporter": "python",
   "pygments_lexer": "ipython3",
   "version": "3.9.12"
  }
 },
 "nbformat": 4,
 "nbformat_minor": 2
}
